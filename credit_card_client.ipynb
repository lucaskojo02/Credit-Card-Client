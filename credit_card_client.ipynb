{
 "cells": [
  {
   "cell_type": "markdown",
   "id": "dc2bcdb2",
   "metadata": {},
   "source": [
    "### Import libraries and load the data set"
   ]
  },
  {
   "cell_type": "code",
   "execution_count": 1,
   "id": "c293a880",
   "metadata": {},
   "outputs": [],
   "source": [
    "#Load the required libraries\n",
    "import pandas as pd\n",
    "import numpy as np\n",
    "import seaborn as sns\n",
    "from sklearn.utils import resample\n",
    "from sklearn.model_selection import train_test_split\n",
    "from sklearn.svm import SVC\n",
    "from sklearn.metrics import confusion_matrix\n",
    "from sklearn.model_selection import GridSearchCV, StratifiedKFold\n",
    "from sklearn.decomposition import PCA\n",
    "import matplotlib.colors as colors\n",
    "import matplotlib.pyplot as plt"
   ]
  },
  {
   "cell_type": "code",
   "execution_count": 2,
   "id": "c68b841f",
   "metadata": {},
   "outputs": [],
   "source": [
    "# Import the data set\n",
    "df = pd.read_excel('default_of_credit_card_clients.xls', header=1)"
   ]
  },
  {
   "cell_type": "markdown",
   "id": "ce93cb69",
   "metadata": {},
   "source": [
    "### Explore the data set"
   ]
  },
  {
   "cell_type": "code",
   "execution_count": 3,
   "id": "63998487",
   "metadata": {},
   "outputs": [
    {
     "data": {
      "application/vnd.microsoft.datawrangler.viewer.v0+json": {
       "columns": [
        {
         "name": "index",
         "rawType": "int64",
         "type": "integer"
        },
        {
         "name": "ID",
         "rawType": "int64",
         "type": "integer"
        },
        {
         "name": "LIMIT_BAL",
         "rawType": "int64",
         "type": "integer"
        },
        {
         "name": "SEX",
         "rawType": "int64",
         "type": "integer"
        },
        {
         "name": "EDUCATION",
         "rawType": "int64",
         "type": "integer"
        },
        {
         "name": "MARRIAGE",
         "rawType": "int64",
         "type": "integer"
        },
        {
         "name": "AGE",
         "rawType": "int64",
         "type": "integer"
        },
        {
         "name": "PAY_0",
         "rawType": "int64",
         "type": "integer"
        },
        {
         "name": "PAY_2",
         "rawType": "int64",
         "type": "integer"
        },
        {
         "name": "PAY_3",
         "rawType": "int64",
         "type": "integer"
        },
        {
         "name": "PAY_4",
         "rawType": "int64",
         "type": "integer"
        },
        {
         "name": "PAY_5",
         "rawType": "int64",
         "type": "integer"
        },
        {
         "name": "PAY_6",
         "rawType": "int64",
         "type": "integer"
        },
        {
         "name": "BILL_AMT1",
         "rawType": "int64",
         "type": "integer"
        },
        {
         "name": "BILL_AMT2",
         "rawType": "int64",
         "type": "integer"
        },
        {
         "name": "BILL_AMT3",
         "rawType": "int64",
         "type": "integer"
        },
        {
         "name": "BILL_AMT4",
         "rawType": "int64",
         "type": "integer"
        },
        {
         "name": "BILL_AMT5",
         "rawType": "int64",
         "type": "integer"
        },
        {
         "name": "BILL_AMT6",
         "rawType": "int64",
         "type": "integer"
        },
        {
         "name": "PAY_AMT1",
         "rawType": "int64",
         "type": "integer"
        },
        {
         "name": "PAY_AMT2",
         "rawType": "int64",
         "type": "integer"
        },
        {
         "name": "PAY_AMT3",
         "rawType": "int64",
         "type": "integer"
        },
        {
         "name": "PAY_AMT4",
         "rawType": "int64",
         "type": "integer"
        },
        {
         "name": "PAY_AMT5",
         "rawType": "int64",
         "type": "integer"
        },
        {
         "name": "PAY_AMT6",
         "rawType": "int64",
         "type": "integer"
        },
        {
         "name": "default payment next month",
         "rawType": "int64",
         "type": "integer"
        }
       ],
       "conversionMethod": "pd.DataFrame",
       "ref": "7610e75d-fa97-42bb-9b5a-888b7b42d2f1",
       "rows": [
        [
         "0",
         "1",
         "20000",
         "2",
         "2",
         "1",
         "24",
         "2",
         "2",
         "-1",
         "-1",
         "-2",
         "-2",
         "3913",
         "3102",
         "689",
         "0",
         "0",
         "0",
         "0",
         "689",
         "0",
         "0",
         "0",
         "0",
         "1"
        ],
        [
         "1",
         "2",
         "120000",
         "2",
         "2",
         "2",
         "26",
         "-1",
         "2",
         "0",
         "0",
         "0",
         "2",
         "2682",
         "1725",
         "2682",
         "3272",
         "3455",
         "3261",
         "0",
         "1000",
         "1000",
         "1000",
         "0",
         "2000",
         "1"
        ],
        [
         "2",
         "3",
         "90000",
         "2",
         "2",
         "2",
         "34",
         "0",
         "0",
         "0",
         "0",
         "0",
         "0",
         "29239",
         "14027",
         "13559",
         "14331",
         "14948",
         "15549",
         "1518",
         "1500",
         "1000",
         "1000",
         "1000",
         "5000",
         "0"
        ],
        [
         "3",
         "4",
         "50000",
         "2",
         "2",
         "1",
         "37",
         "0",
         "0",
         "0",
         "0",
         "0",
         "0",
         "46990",
         "48233",
         "49291",
         "28314",
         "28959",
         "29547",
         "2000",
         "2019",
         "1200",
         "1100",
         "1069",
         "1000",
         "0"
        ],
        [
         "4",
         "5",
         "50000",
         "1",
         "2",
         "1",
         "57",
         "-1",
         "0",
         "-1",
         "0",
         "0",
         "0",
         "8617",
         "5670",
         "35835",
         "20940",
         "19146",
         "19131",
         "2000",
         "36681",
         "10000",
         "9000",
         "689",
         "679",
         "0"
        ],
        [
         "5",
         "6",
         "50000",
         "1",
         "1",
         "2",
         "37",
         "0",
         "0",
         "0",
         "0",
         "0",
         "0",
         "64400",
         "57069",
         "57608",
         "19394",
         "19619",
         "20024",
         "2500",
         "1815",
         "657",
         "1000",
         "1000",
         "800",
         "0"
        ],
        [
         "6",
         "7",
         "500000",
         "1",
         "1",
         "2",
         "29",
         "0",
         "0",
         "0",
         "0",
         "0",
         "0",
         "367965",
         "412023",
         "445007",
         "542653",
         "483003",
         "473944",
         "55000",
         "40000",
         "38000",
         "20239",
         "13750",
         "13770",
         "0"
        ],
        [
         "7",
         "8",
         "100000",
         "2",
         "2",
         "2",
         "23",
         "0",
         "-1",
         "-1",
         "0",
         "0",
         "-1",
         "11876",
         "380",
         "601",
         "221",
         "-159",
         "567",
         "380",
         "601",
         "0",
         "581",
         "1687",
         "1542",
         "0"
        ],
        [
         "8",
         "9",
         "140000",
         "2",
         "3",
         "1",
         "28",
         "0",
         "0",
         "2",
         "0",
         "0",
         "0",
         "11285",
         "14096",
         "12108",
         "12211",
         "11793",
         "3719",
         "3329",
         "0",
         "432",
         "1000",
         "1000",
         "1000",
         "0"
        ],
        [
         "9",
         "10",
         "20000",
         "1",
         "3",
         "2",
         "35",
         "-2",
         "-2",
         "-2",
         "-2",
         "-1",
         "-1",
         "0",
         "0",
         "0",
         "0",
         "13007",
         "13912",
         "0",
         "0",
         "0",
         "13007",
         "1122",
         "0",
         "0"
        ]
       ],
       "shape": {
        "columns": 25,
        "rows": 10
       }
      },
      "text/html": [
       "<div>\n",
       "<style scoped>\n",
       "    .dataframe tbody tr th:only-of-type {\n",
       "        vertical-align: middle;\n",
       "    }\n",
       "\n",
       "    .dataframe tbody tr th {\n",
       "        vertical-align: top;\n",
       "    }\n",
       "\n",
       "    .dataframe thead th {\n",
       "        text-align: right;\n",
       "    }\n",
       "</style>\n",
       "<table border=\"1\" class=\"dataframe\">\n",
       "  <thead>\n",
       "    <tr style=\"text-align: right;\">\n",
       "      <th></th>\n",
       "      <th>ID</th>\n",
       "      <th>LIMIT_BAL</th>\n",
       "      <th>SEX</th>\n",
       "      <th>EDUCATION</th>\n",
       "      <th>MARRIAGE</th>\n",
       "      <th>AGE</th>\n",
       "      <th>PAY_0</th>\n",
       "      <th>PAY_2</th>\n",
       "      <th>PAY_3</th>\n",
       "      <th>PAY_4</th>\n",
       "      <th>...</th>\n",
       "      <th>BILL_AMT4</th>\n",
       "      <th>BILL_AMT5</th>\n",
       "      <th>BILL_AMT6</th>\n",
       "      <th>PAY_AMT1</th>\n",
       "      <th>PAY_AMT2</th>\n",
       "      <th>PAY_AMT3</th>\n",
       "      <th>PAY_AMT4</th>\n",
       "      <th>PAY_AMT5</th>\n",
       "      <th>PAY_AMT6</th>\n",
       "      <th>default payment next month</th>\n",
       "    </tr>\n",
       "  </thead>\n",
       "  <tbody>\n",
       "    <tr>\n",
       "      <th>0</th>\n",
       "      <td>1</td>\n",
       "      <td>20000</td>\n",
       "      <td>2</td>\n",
       "      <td>2</td>\n",
       "      <td>1</td>\n",
       "      <td>24</td>\n",
       "      <td>2</td>\n",
       "      <td>2</td>\n",
       "      <td>-1</td>\n",
       "      <td>-1</td>\n",
       "      <td>...</td>\n",
       "      <td>0</td>\n",
       "      <td>0</td>\n",
       "      <td>0</td>\n",
       "      <td>0</td>\n",
       "      <td>689</td>\n",
       "      <td>0</td>\n",
       "      <td>0</td>\n",
       "      <td>0</td>\n",
       "      <td>0</td>\n",
       "      <td>1</td>\n",
       "    </tr>\n",
       "    <tr>\n",
       "      <th>1</th>\n",
       "      <td>2</td>\n",
       "      <td>120000</td>\n",
       "      <td>2</td>\n",
       "      <td>2</td>\n",
       "      <td>2</td>\n",
       "      <td>26</td>\n",
       "      <td>-1</td>\n",
       "      <td>2</td>\n",
       "      <td>0</td>\n",
       "      <td>0</td>\n",
       "      <td>...</td>\n",
       "      <td>3272</td>\n",
       "      <td>3455</td>\n",
       "      <td>3261</td>\n",
       "      <td>0</td>\n",
       "      <td>1000</td>\n",
       "      <td>1000</td>\n",
       "      <td>1000</td>\n",
       "      <td>0</td>\n",
       "      <td>2000</td>\n",
       "      <td>1</td>\n",
       "    </tr>\n",
       "    <tr>\n",
       "      <th>2</th>\n",
       "      <td>3</td>\n",
       "      <td>90000</td>\n",
       "      <td>2</td>\n",
       "      <td>2</td>\n",
       "      <td>2</td>\n",
       "      <td>34</td>\n",
       "      <td>0</td>\n",
       "      <td>0</td>\n",
       "      <td>0</td>\n",
       "      <td>0</td>\n",
       "      <td>...</td>\n",
       "      <td>14331</td>\n",
       "      <td>14948</td>\n",
       "      <td>15549</td>\n",
       "      <td>1518</td>\n",
       "      <td>1500</td>\n",
       "      <td>1000</td>\n",
       "      <td>1000</td>\n",
       "      <td>1000</td>\n",
       "      <td>5000</td>\n",
       "      <td>0</td>\n",
       "    </tr>\n",
       "    <tr>\n",
       "      <th>3</th>\n",
       "      <td>4</td>\n",
       "      <td>50000</td>\n",
       "      <td>2</td>\n",
       "      <td>2</td>\n",
       "      <td>1</td>\n",
       "      <td>37</td>\n",
       "      <td>0</td>\n",
       "      <td>0</td>\n",
       "      <td>0</td>\n",
       "      <td>0</td>\n",
       "      <td>...</td>\n",
       "      <td>28314</td>\n",
       "      <td>28959</td>\n",
       "      <td>29547</td>\n",
       "      <td>2000</td>\n",
       "      <td>2019</td>\n",
       "      <td>1200</td>\n",
       "      <td>1100</td>\n",
       "      <td>1069</td>\n",
       "      <td>1000</td>\n",
       "      <td>0</td>\n",
       "    </tr>\n",
       "    <tr>\n",
       "      <th>4</th>\n",
       "      <td>5</td>\n",
       "      <td>50000</td>\n",
       "      <td>1</td>\n",
       "      <td>2</td>\n",
       "      <td>1</td>\n",
       "      <td>57</td>\n",
       "      <td>-1</td>\n",
       "      <td>0</td>\n",
       "      <td>-1</td>\n",
       "      <td>0</td>\n",
       "      <td>...</td>\n",
       "      <td>20940</td>\n",
       "      <td>19146</td>\n",
       "      <td>19131</td>\n",
       "      <td>2000</td>\n",
       "      <td>36681</td>\n",
       "      <td>10000</td>\n",
       "      <td>9000</td>\n",
       "      <td>689</td>\n",
       "      <td>679</td>\n",
       "      <td>0</td>\n",
       "    </tr>\n",
       "    <tr>\n",
       "      <th>5</th>\n",
       "      <td>6</td>\n",
       "      <td>50000</td>\n",
       "      <td>1</td>\n",
       "      <td>1</td>\n",
       "      <td>2</td>\n",
       "      <td>37</td>\n",
       "      <td>0</td>\n",
       "      <td>0</td>\n",
       "      <td>0</td>\n",
       "      <td>0</td>\n",
       "      <td>...</td>\n",
       "      <td>19394</td>\n",
       "      <td>19619</td>\n",
       "      <td>20024</td>\n",
       "      <td>2500</td>\n",
       "      <td>1815</td>\n",
       "      <td>657</td>\n",
       "      <td>1000</td>\n",
       "      <td>1000</td>\n",
       "      <td>800</td>\n",
       "      <td>0</td>\n",
       "    </tr>\n",
       "    <tr>\n",
       "      <th>6</th>\n",
       "      <td>7</td>\n",
       "      <td>500000</td>\n",
       "      <td>1</td>\n",
       "      <td>1</td>\n",
       "      <td>2</td>\n",
       "      <td>29</td>\n",
       "      <td>0</td>\n",
       "      <td>0</td>\n",
       "      <td>0</td>\n",
       "      <td>0</td>\n",
       "      <td>...</td>\n",
       "      <td>542653</td>\n",
       "      <td>483003</td>\n",
       "      <td>473944</td>\n",
       "      <td>55000</td>\n",
       "      <td>40000</td>\n",
       "      <td>38000</td>\n",
       "      <td>20239</td>\n",
       "      <td>13750</td>\n",
       "      <td>13770</td>\n",
       "      <td>0</td>\n",
       "    </tr>\n",
       "    <tr>\n",
       "      <th>7</th>\n",
       "      <td>8</td>\n",
       "      <td>100000</td>\n",
       "      <td>2</td>\n",
       "      <td>2</td>\n",
       "      <td>2</td>\n",
       "      <td>23</td>\n",
       "      <td>0</td>\n",
       "      <td>-1</td>\n",
       "      <td>-1</td>\n",
       "      <td>0</td>\n",
       "      <td>...</td>\n",
       "      <td>221</td>\n",
       "      <td>-159</td>\n",
       "      <td>567</td>\n",
       "      <td>380</td>\n",
       "      <td>601</td>\n",
       "      <td>0</td>\n",
       "      <td>581</td>\n",
       "      <td>1687</td>\n",
       "      <td>1542</td>\n",
       "      <td>0</td>\n",
       "    </tr>\n",
       "    <tr>\n",
       "      <th>8</th>\n",
       "      <td>9</td>\n",
       "      <td>140000</td>\n",
       "      <td>2</td>\n",
       "      <td>3</td>\n",
       "      <td>1</td>\n",
       "      <td>28</td>\n",
       "      <td>0</td>\n",
       "      <td>0</td>\n",
       "      <td>2</td>\n",
       "      <td>0</td>\n",
       "      <td>...</td>\n",
       "      <td>12211</td>\n",
       "      <td>11793</td>\n",
       "      <td>3719</td>\n",
       "      <td>3329</td>\n",
       "      <td>0</td>\n",
       "      <td>432</td>\n",
       "      <td>1000</td>\n",
       "      <td>1000</td>\n",
       "      <td>1000</td>\n",
       "      <td>0</td>\n",
       "    </tr>\n",
       "    <tr>\n",
       "      <th>9</th>\n",
       "      <td>10</td>\n",
       "      <td>20000</td>\n",
       "      <td>1</td>\n",
       "      <td>3</td>\n",
       "      <td>2</td>\n",
       "      <td>35</td>\n",
       "      <td>-2</td>\n",
       "      <td>-2</td>\n",
       "      <td>-2</td>\n",
       "      <td>-2</td>\n",
       "      <td>...</td>\n",
       "      <td>0</td>\n",
       "      <td>13007</td>\n",
       "      <td>13912</td>\n",
       "      <td>0</td>\n",
       "      <td>0</td>\n",
       "      <td>0</td>\n",
       "      <td>13007</td>\n",
       "      <td>1122</td>\n",
       "      <td>0</td>\n",
       "      <td>0</td>\n",
       "    </tr>\n",
       "  </tbody>\n",
       "</table>\n",
       "<p>10 rows × 25 columns</p>\n",
       "</div>"
      ],
      "text/plain": [
       "   ID  LIMIT_BAL  SEX  EDUCATION  MARRIAGE  AGE  PAY_0  PAY_2  PAY_3  PAY_4  \\\n",
       "0   1      20000    2          2         1   24      2      2     -1     -1   \n",
       "1   2     120000    2          2         2   26     -1      2      0      0   \n",
       "2   3      90000    2          2         2   34      0      0      0      0   \n",
       "3   4      50000    2          2         1   37      0      0      0      0   \n",
       "4   5      50000    1          2         1   57     -1      0     -1      0   \n",
       "5   6      50000    1          1         2   37      0      0      0      0   \n",
       "6   7     500000    1          1         2   29      0      0      0      0   \n",
       "7   8     100000    2          2         2   23      0     -1     -1      0   \n",
       "8   9     140000    2          3         1   28      0      0      2      0   \n",
       "9  10      20000    1          3         2   35     -2     -2     -2     -2   \n",
       "\n",
       "   ...  BILL_AMT4  BILL_AMT5  BILL_AMT6  PAY_AMT1  PAY_AMT2  PAY_AMT3  \\\n",
       "0  ...          0          0          0         0       689         0   \n",
       "1  ...       3272       3455       3261         0      1000      1000   \n",
       "2  ...      14331      14948      15549      1518      1500      1000   \n",
       "3  ...      28314      28959      29547      2000      2019      1200   \n",
       "4  ...      20940      19146      19131      2000     36681     10000   \n",
       "5  ...      19394      19619      20024      2500      1815       657   \n",
       "6  ...     542653     483003     473944     55000     40000     38000   \n",
       "7  ...        221       -159        567       380       601         0   \n",
       "8  ...      12211      11793       3719      3329         0       432   \n",
       "9  ...          0      13007      13912         0         0         0   \n",
       "\n",
       "   PAY_AMT4  PAY_AMT5  PAY_AMT6  default payment next month  \n",
       "0         0         0         0                           1  \n",
       "1      1000         0      2000                           1  \n",
       "2      1000      1000      5000                           0  \n",
       "3      1100      1069      1000                           0  \n",
       "4      9000       689       679                           0  \n",
       "5      1000      1000       800                           0  \n",
       "6     20239     13750     13770                           0  \n",
       "7       581      1687      1542                           0  \n",
       "8      1000      1000      1000                           0  \n",
       "9     13007      1122         0                           0  \n",
       "\n",
       "[10 rows x 25 columns]"
      ]
     },
     "execution_count": 3,
     "metadata": {},
     "output_type": "execute_result"
    }
   ],
   "source": [
    "#Explore the first ten rows of the data set\n",
    "df.head(10)"
   ]
  },
  {
   "cell_type": "markdown",
   "id": "90f2cb67",
   "metadata": {},
   "source": [
    "In the output provided, each row represents an individual entry. The columns represent specific features like the identification number, credit limit, sex, education, marriage status, age, payment status across several months, bill statement amounts, payment amounts, and a target variable indicating default in the following month. The numerical data in each column provides information about the respective feature or attribute. The \"default payment next month\" column represents the class label or target variable for classification tasks in an SVM."
   ]
  },
  {
   "cell_type": "code",
   "execution_count": 4,
   "id": "f23b4d03",
   "metadata": {},
   "outputs": [
    {
     "data": {
      "application/vnd.microsoft.datawrangler.viewer.v0+json": {
       "columns": [
        {
         "name": "index",
         "rawType": "int64",
         "type": "integer"
        },
        {
         "name": "LIMIT_BAL",
         "rawType": "int64",
         "type": "integer"
        },
        {
         "name": "SEX",
         "rawType": "int64",
         "type": "integer"
        },
        {
         "name": "EDUCATION",
         "rawType": "int64",
         "type": "integer"
        },
        {
         "name": "MARRIAGE",
         "rawType": "int64",
         "type": "integer"
        },
        {
         "name": "AGE",
         "rawType": "int64",
         "type": "integer"
        },
        {
         "name": "PAY_0",
         "rawType": "int64",
         "type": "integer"
        },
        {
         "name": "PAY_2",
         "rawType": "int64",
         "type": "integer"
        },
        {
         "name": "PAY_3",
         "rawType": "int64",
         "type": "integer"
        },
        {
         "name": "PAY_4",
         "rawType": "int64",
         "type": "integer"
        },
        {
         "name": "PAY_5",
         "rawType": "int64",
         "type": "integer"
        },
        {
         "name": "PAY_6",
         "rawType": "int64",
         "type": "integer"
        },
        {
         "name": "BILL_AMT1",
         "rawType": "int64",
         "type": "integer"
        },
        {
         "name": "BILL_AMT2",
         "rawType": "int64",
         "type": "integer"
        },
        {
         "name": "BILL_AMT3",
         "rawType": "int64",
         "type": "integer"
        },
        {
         "name": "BILL_AMT4",
         "rawType": "int64",
         "type": "integer"
        },
        {
         "name": "BILL_AMT5",
         "rawType": "int64",
         "type": "integer"
        },
        {
         "name": "BILL_AMT6",
         "rawType": "int64",
         "type": "integer"
        },
        {
         "name": "PAY_AMT1",
         "rawType": "int64",
         "type": "integer"
        },
        {
         "name": "PAY_AMT2",
         "rawType": "int64",
         "type": "integer"
        },
        {
         "name": "PAY_AMT3",
         "rawType": "int64",
         "type": "integer"
        },
        {
         "name": "PAY_AMT4",
         "rawType": "int64",
         "type": "integer"
        },
        {
         "name": "PAY_AMT5",
         "rawType": "int64",
         "type": "integer"
        },
        {
         "name": "PAY_AMT6",
         "rawType": "int64",
         "type": "integer"
        },
        {
         "name": "DEFAULT",
         "rawType": "int64",
         "type": "integer"
        }
       ],
       "conversionMethod": "pd.DataFrame",
       "ref": "52efff2c-9924-449f-8cda-925e13ef545a",
       "rows": [
        [
         "0",
         "20000",
         "2",
         "2",
         "1",
         "24",
         "2",
         "2",
         "-1",
         "-1",
         "-2",
         "-2",
         "3913",
         "3102",
         "689",
         "0",
         "0",
         "0",
         "0",
         "689",
         "0",
         "0",
         "0",
         "0",
         "1"
        ],
        [
         "1",
         "120000",
         "2",
         "2",
         "2",
         "26",
         "-1",
         "2",
         "0",
         "0",
         "0",
         "2",
         "2682",
         "1725",
         "2682",
         "3272",
         "3455",
         "3261",
         "0",
         "1000",
         "1000",
         "1000",
         "0",
         "2000",
         "1"
        ],
        [
         "2",
         "90000",
         "2",
         "2",
         "2",
         "34",
         "0",
         "0",
         "0",
         "0",
         "0",
         "0",
         "29239",
         "14027",
         "13559",
         "14331",
         "14948",
         "15549",
         "1518",
         "1500",
         "1000",
         "1000",
         "1000",
         "5000",
         "0"
        ],
        [
         "3",
         "50000",
         "2",
         "2",
         "1",
         "37",
         "0",
         "0",
         "0",
         "0",
         "0",
         "0",
         "46990",
         "48233",
         "49291",
         "28314",
         "28959",
         "29547",
         "2000",
         "2019",
         "1200",
         "1100",
         "1069",
         "1000",
         "0"
        ],
        [
         "4",
         "50000",
         "1",
         "2",
         "1",
         "57",
         "-1",
         "0",
         "-1",
         "0",
         "0",
         "0",
         "8617",
         "5670",
         "35835",
         "20940",
         "19146",
         "19131",
         "2000",
         "36681",
         "10000",
         "9000",
         "689",
         "679",
         "0"
        ]
       ],
       "shape": {
        "columns": 24,
        "rows": 5
       }
      },
      "text/html": [
       "<div>\n",
       "<style scoped>\n",
       "    .dataframe tbody tr th:only-of-type {\n",
       "        vertical-align: middle;\n",
       "    }\n",
       "\n",
       "    .dataframe tbody tr th {\n",
       "        vertical-align: top;\n",
       "    }\n",
       "\n",
       "    .dataframe thead th {\n",
       "        text-align: right;\n",
       "    }\n",
       "</style>\n",
       "<table border=\"1\" class=\"dataframe\">\n",
       "  <thead>\n",
       "    <tr style=\"text-align: right;\">\n",
       "      <th></th>\n",
       "      <th>LIMIT_BAL</th>\n",
       "      <th>SEX</th>\n",
       "      <th>EDUCATION</th>\n",
       "      <th>MARRIAGE</th>\n",
       "      <th>AGE</th>\n",
       "      <th>PAY_0</th>\n",
       "      <th>PAY_2</th>\n",
       "      <th>PAY_3</th>\n",
       "      <th>PAY_4</th>\n",
       "      <th>PAY_5</th>\n",
       "      <th>...</th>\n",
       "      <th>BILL_AMT4</th>\n",
       "      <th>BILL_AMT5</th>\n",
       "      <th>BILL_AMT6</th>\n",
       "      <th>PAY_AMT1</th>\n",
       "      <th>PAY_AMT2</th>\n",
       "      <th>PAY_AMT3</th>\n",
       "      <th>PAY_AMT4</th>\n",
       "      <th>PAY_AMT5</th>\n",
       "      <th>PAY_AMT6</th>\n",
       "      <th>DEFAULT</th>\n",
       "    </tr>\n",
       "  </thead>\n",
       "  <tbody>\n",
       "    <tr>\n",
       "      <th>0</th>\n",
       "      <td>20000</td>\n",
       "      <td>2</td>\n",
       "      <td>2</td>\n",
       "      <td>1</td>\n",
       "      <td>24</td>\n",
       "      <td>2</td>\n",
       "      <td>2</td>\n",
       "      <td>-1</td>\n",
       "      <td>-1</td>\n",
       "      <td>-2</td>\n",
       "      <td>...</td>\n",
       "      <td>0</td>\n",
       "      <td>0</td>\n",
       "      <td>0</td>\n",
       "      <td>0</td>\n",
       "      <td>689</td>\n",
       "      <td>0</td>\n",
       "      <td>0</td>\n",
       "      <td>0</td>\n",
       "      <td>0</td>\n",
       "      <td>1</td>\n",
       "    </tr>\n",
       "    <tr>\n",
       "      <th>1</th>\n",
       "      <td>120000</td>\n",
       "      <td>2</td>\n",
       "      <td>2</td>\n",
       "      <td>2</td>\n",
       "      <td>26</td>\n",
       "      <td>-1</td>\n",
       "      <td>2</td>\n",
       "      <td>0</td>\n",
       "      <td>0</td>\n",
       "      <td>0</td>\n",
       "      <td>...</td>\n",
       "      <td>3272</td>\n",
       "      <td>3455</td>\n",
       "      <td>3261</td>\n",
       "      <td>0</td>\n",
       "      <td>1000</td>\n",
       "      <td>1000</td>\n",
       "      <td>1000</td>\n",
       "      <td>0</td>\n",
       "      <td>2000</td>\n",
       "      <td>1</td>\n",
       "    </tr>\n",
       "    <tr>\n",
       "      <th>2</th>\n",
       "      <td>90000</td>\n",
       "      <td>2</td>\n",
       "      <td>2</td>\n",
       "      <td>2</td>\n",
       "      <td>34</td>\n",
       "      <td>0</td>\n",
       "      <td>0</td>\n",
       "      <td>0</td>\n",
       "      <td>0</td>\n",
       "      <td>0</td>\n",
       "      <td>...</td>\n",
       "      <td>14331</td>\n",
       "      <td>14948</td>\n",
       "      <td>15549</td>\n",
       "      <td>1518</td>\n",
       "      <td>1500</td>\n",
       "      <td>1000</td>\n",
       "      <td>1000</td>\n",
       "      <td>1000</td>\n",
       "      <td>5000</td>\n",
       "      <td>0</td>\n",
       "    </tr>\n",
       "    <tr>\n",
       "      <th>3</th>\n",
       "      <td>50000</td>\n",
       "      <td>2</td>\n",
       "      <td>2</td>\n",
       "      <td>1</td>\n",
       "      <td>37</td>\n",
       "      <td>0</td>\n",
       "      <td>0</td>\n",
       "      <td>0</td>\n",
       "      <td>0</td>\n",
       "      <td>0</td>\n",
       "      <td>...</td>\n",
       "      <td>28314</td>\n",
       "      <td>28959</td>\n",
       "      <td>29547</td>\n",
       "      <td>2000</td>\n",
       "      <td>2019</td>\n",
       "      <td>1200</td>\n",
       "      <td>1100</td>\n",
       "      <td>1069</td>\n",
       "      <td>1000</td>\n",
       "      <td>0</td>\n",
       "    </tr>\n",
       "    <tr>\n",
       "      <th>4</th>\n",
       "      <td>50000</td>\n",
       "      <td>1</td>\n",
       "      <td>2</td>\n",
       "      <td>1</td>\n",
       "      <td>57</td>\n",
       "      <td>-1</td>\n",
       "      <td>0</td>\n",
       "      <td>-1</td>\n",
       "      <td>0</td>\n",
       "      <td>0</td>\n",
       "      <td>...</td>\n",
       "      <td>20940</td>\n",
       "      <td>19146</td>\n",
       "      <td>19131</td>\n",
       "      <td>2000</td>\n",
       "      <td>36681</td>\n",
       "      <td>10000</td>\n",
       "      <td>9000</td>\n",
       "      <td>689</td>\n",
       "      <td>679</td>\n",
       "      <td>0</td>\n",
       "    </tr>\n",
       "  </tbody>\n",
       "</table>\n",
       "<p>5 rows × 24 columns</p>\n",
       "</div>"
      ],
      "text/plain": [
       "   LIMIT_BAL  SEX  EDUCATION  MARRIAGE  AGE  PAY_0  PAY_2  PAY_3  PAY_4  \\\n",
       "0      20000    2          2         1   24      2      2     -1     -1   \n",
       "1     120000    2          2         2   26     -1      2      0      0   \n",
       "2      90000    2          2         2   34      0      0      0      0   \n",
       "3      50000    2          2         1   37      0      0      0      0   \n",
       "4      50000    1          2         1   57     -1      0     -1      0   \n",
       "\n",
       "   PAY_5  ...  BILL_AMT4  BILL_AMT5  BILL_AMT6  PAY_AMT1  PAY_AMT2  PAY_AMT3  \\\n",
       "0     -2  ...          0          0          0         0       689         0   \n",
       "1      0  ...       3272       3455       3261         0      1000      1000   \n",
       "2      0  ...      14331      14948      15549      1518      1500      1000   \n",
       "3      0  ...      28314      28959      29547      2000      2019      1200   \n",
       "4      0  ...      20940      19146      19131      2000     36681     10000   \n",
       "\n",
       "   PAY_AMT4  PAY_AMT5  PAY_AMT6  DEFAULT  \n",
       "0         0         0         0        1  \n",
       "1      1000         0      2000        1  \n",
       "2      1000      1000      5000        0  \n",
       "3      1100      1069      1000        0  \n",
       "4      9000       689       679        0  \n",
       "\n",
       "[5 rows x 24 columns]"
      ]
     },
     "execution_count": 4,
     "metadata": {},
     "output_type": "execute_result"
    }
   ],
   "source": [
    "# Rename the columns\n",
    "df.rename({'default payment next month': 'DEFAULT'}, axis='columns', inplace=True)\n",
    "\n",
    "#Remove the ID column as it is not informative\n",
    "df.drop('ID', axis=1, inplace=True)\n",
    "df.head()"
   ]
  },
  {
   "cell_type": "markdown",
   "id": "d081c426",
   "metadata": {},
   "source": [
    "To clean up the data set, rename and simplify the \"default payment next month\" column to \"DEFAULT\", making it convenient for further analysis or modeling tasks. The DataFrame also no longer contains the ID column because it is considered non-informative for analysis or modeling tasks."
   ]
  },
  {
   "cell_type": "markdown",
   "id": "f4e3a64c",
   "metadata": {},
   "source": [
    "### Analyzing missing data"
   ]
  },
  {
   "cell_type": "code",
   "execution_count": 5,
   "id": "e2062325",
   "metadata": {},
   "outputs": [
    {
     "data": {
      "text/plain": [
       "LIMIT_BAL    0\n",
       "SEX          0\n",
       "EDUCATION    0\n",
       "MARRIAGE     0\n",
       "AGE          0\n",
       "PAY_0        0\n",
       "PAY_2        0\n",
       "PAY_3        0\n",
       "PAY_4        0\n",
       "PAY_5        0\n",
       "PAY_6        0\n",
       "BILL_AMT1    0\n",
       "BILL_AMT2    0\n",
       "BILL_AMT3    0\n",
       "BILL_AMT4    0\n",
       "BILL_AMT5    0\n",
       "BILL_AMT6    0\n",
       "PAY_AMT1     0\n",
       "PAY_AMT2     0\n",
       "PAY_AMT3     0\n",
       "PAY_AMT4     0\n",
       "PAY_AMT5     0\n",
       "PAY_AMT6     0\n",
       "DEFAULT      0\n",
       "dtype: int64"
      ]
     },
     "execution_count": 5,
     "metadata": {},
     "output_type": "execute_result"
    }
   ],
   "source": [
    "#Checking for missing values\n",
    "df.isnull().sum()"
   ]
  },
  {
   "cell_type": "markdown",
   "id": "20c4b3ab",
   "metadata": {},
   "source": [
    "As you can see, there are no missing values"
   ]
  },
  {
   "cell_type": "markdown",
   "id": "d2ecde86",
   "metadata": {},
   "source": [
    "#### check dimensions for invalid values"
   ]
  },
  {
   "cell_type": "code",
   "execution_count": 6,
   "id": "f01f9fdf",
   "metadata": {},
   "outputs": [
    {
     "data": {
      "text/plain": [
       "array([2, 1])"
      ]
     },
     "execution_count": 6,
     "metadata": {},
     "output_type": "execute_result"
    }
   ],
   "source": [
    "df['SEX'].unique()"
   ]
  },
  {
   "cell_type": "code",
   "execution_count": 7,
   "id": "d54730bc",
   "metadata": {},
   "outputs": [
    {
     "data": {
      "text/plain": [
       "array([1, 2, 3, 0])"
      ]
     },
     "execution_count": 7,
     "metadata": {},
     "output_type": "execute_result"
    }
   ],
   "source": [
    "df['MARRIAGE'].unique()"
   ]
  },
  {
   "cell_type": "code",
   "execution_count": 8,
   "id": "188e98f5",
   "metadata": {},
   "outputs": [
    {
     "data": {
      "text/plain": [
       "array([2, 1, 3, 5, 4, 6, 0])"
      ]
     },
     "execution_count": 8,
     "metadata": {},
     "output_type": "execute_result"
    }
   ],
   "source": [
    "df['EDUCATION'].unique()"
   ]
  },
  {
   "cell_type": "code",
   "execution_count": 9,
   "id": "56a582ce",
   "metadata": {},
   "outputs": [
    {
     "data": {
      "text/plain": [
       "array([24, 26, 34, 37, 57, 29, 23, 28, 35, 51, 41, 30, 49, 39, 40, 27, 47,\n",
       "       33, 32, 54, 58, 22, 25, 31, 46, 42, 43, 45, 56, 44, 53, 38, 63, 36,\n",
       "       52, 48, 55, 60, 50, 75, 61, 73, 59, 21, 67, 66, 62, 70, 72, 64, 65,\n",
       "       71, 69, 68, 79, 74])"
      ]
     },
     "execution_count": 9,
     "metadata": {},
     "output_type": "execute_result"
    }
   ],
   "source": [
    "df['AGE'].unique()"
   ]
  },
  {
   "cell_type": "code",
   "execution_count": 10,
   "id": "bee08b58",
   "metadata": {},
   "outputs": [
    {
     "name": "stdout",
     "output_type": "stream",
     "text": [
      "0\n",
      "0\n",
      "0\n",
      "0\n"
     ]
    }
   ],
   "source": [
    "# count missing or null values\n",
    "print(len(df[pd.isnull(df.SEX)]))\n",
    "print(len(df[pd.isnull(df.MARRIAGE)]))\n",
    "print(len(df[pd.isnull(df.EDUCATION)]))\n",
    "print(len(df[pd.isnull(df.AGE)]))\n"
   ]
  },
  {
   "cell_type": "code",
   "execution_count": 11,
   "id": "1f56c79e",
   "metadata": {},
   "outputs": [
    {
     "data": {
      "text/plain": [
       "68"
      ]
     },
     "execution_count": 11,
     "metadata": {},
     "output_type": "execute_result"
    }
   ],
   "source": [
    "#count of missing data\n",
    "len(df.loc[(df['EDUCATION'] == 0) | (df['MARRIAGE'] == 0)])"
   ]
  },
  {
   "cell_type": "markdown",
   "id": "1db067f3",
   "metadata": {},
   "source": [
    "The output indicates that some of the data does not align with the data definitions, specifically EDUCATION and MARRIAGE columns. EDUCATION includes three types of invalid values, which are 0, 5, and 6, and the MARRIAGE column includes 0 as an invalid value. Assume that a 0 encoding is supposed to represent missing data and that a value of 5 or 6 within EDUCATION is representative of other unspecified education levels (for example, Ph.D. or a master's degree), which is not represented within the data definition.\n",
    "\n",
    "68 rows exist in the DataFrame where either the EDUCATION or the MARRIAGE column is zero. Next, filter the rows where the EDUCATION and MARRIAGE columns have non-zero values."
   ]
  },
  {
   "cell_type": "code",
   "execution_count": 12,
   "id": "126c6e3a",
   "metadata": {},
   "outputs": [],
   "source": [
    "#Filter the DataFrame\n",
    "df_no_missing_data = df.loc[(df['EDUCATION'] != 0) & (df['MARRIAGE'] != 0)]"
   ]
  },
  {
   "cell_type": "markdown",
   "id": "dbc01661",
   "metadata": {},
   "source": [
    "The new DataFrame contains rows where the EDUCATION column and the MARRIAGE column do not have values equal to 0; this filtering yields 29,932 rows. Now that you have removed these missing values, check whether the number of defaults in this data set is balanced."
   ]
  },
  {
   "cell_type": "code",
   "execution_count": 15,
   "id": "5d6bd59e",
   "metadata": {},
   "outputs": [
    {
     "data": {
      "image/png": "[encoded data removed]",
      "text/plain": [
       "<Figure size 640x480 with 1 Axes>"
      ]
     },
     "metadata": {},
     "output_type": "display_data"
    }
   ],
   "source": [
    "# Explore distribution of dataset\n",
    "ax = sns.countplot(x='DEFAULT', hue='DEFAULT', data=df_no_missing_data, palette='rocket', legend=False)\n",
    "\n",
    "# Add data labels\n",
    "ax.bar_label(ax.containers[0])\n",
    "\n",
    "# Add plot title\n",
    "plt.title(\"Observations by Classification Type\")\n",
    "\n",
    "# Show plot\n",
    "plt.show()"
   ]
  },
  {
   "cell_type": "markdown",
   "id": "faaa0ec0",
   "metadata": {},
   "source": [
    "The output displays the count of accounts with and without a credit card default, indicating an unbalanced data set. To address this, downsample the data to balance it out."
   ]
  },
  {
   "cell_type": "markdown",
   "id": "98dd21b6",
   "metadata": {},
   "source": [
    "### Downsample the data set"
   ]
  },
  {
   "cell_type": "markdown",
   "id": "6b02a62e",
   "metadata": {},
   "source": [
    "In this step, you balance the data set by splitting the data set into two categories: individuals regularly paying their credit card debt (default) and individuals whose debt remains unpaid (no default). You then downsample the data set by obtaining 1,000 samples for each category, representing the default payment as Yes = 1 and No = 0. From there, you merge the two data sets to create your balanced data set."
   ]
  },
  {
   "cell_type": "code",
   "execution_count": 17,
   "id": "d7b76617",
   "metadata": {},
   "outputs": [
    {
     "data": {
      "text/plain": [
       "2000"
      ]
     },
     "execution_count": 17,
     "metadata": {},
     "output_type": "execute_result"
    }
   ],
   "source": [
    "from sklearn.utils import resample\n",
    "\n",
    "# split data\n",
    "df_no_default = df_no_missing_data.loc[(df_no_missing_data['DEFAULT']==0)]\n",
    "df_default = df_no_missing_data.loc[(df_no_missing_data['DEFAULT']==1)]\n",
    "\n",
    "# downsample the data set\n",
    "df_no_default_downsampled = resample(df_no_default, replace=False, n_samples=1000, random_state=42 )\n",
    "df_default_downsampled = resample(df_default, replace=False, n_samples=1000, random_state=42 )\n",
    "\n",
    "#check ouput\n",
    "len(df_no_default_downsampled)\n",
    "len(df_default_downsampled)\n",
    "\n",
    "# merge the data sets\n",
    "df_downsample = pd.concat([df_no_default_downsampled, df_default_downsampled ])\n",
    "len(df_downsample)"
   ]
  },
  {
   "cell_type": "code",
   "execution_count": null,
   "id": "8bc22c0e",
   "metadata": {},
   "outputs": [],
   "source": []
  }
 ],
 "metadata": {
  "kernelspec": {
   "display_name": "Python 3",
   "language": "python",
   "name": "python3"
  },
  "language_info": {
   "codemirror_mode": {
    "name": "ipython",
    "version": 3
   },
   "file_extension": ".py",
   "mimetype": "text/x-python",
   "name": "python",
   "nbconvert_exporter": "python",
   "pygments_lexer": "ipython3",
   "version": "3.12.5"
  }
 },
 "nbformat": 4,
 "nbformat_minor": 5
}
